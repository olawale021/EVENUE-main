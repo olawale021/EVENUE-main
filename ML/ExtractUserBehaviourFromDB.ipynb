{
 "cells": [
  {
   "cell_type": "code",
   "execution_count": 16,
   "id": "e59101c7-bf61-4d80-827c-f8deb0831bc2",
   "metadata": {},
   "outputs": [],
   "source": [
    "import sqlite3\n",
    "import pandas as pd\n",
    "\n",
    "# Connect to your SQLite database\n",
    "conn = sqlite3.connect('database.db')\n",
    "\n",
    "# Query the user_behaviour table with pandas\n",
    "query = \"SELECT * FROM users\"\n",
    "df = pd.read_sql_query(query, conn)\n",
    "\n",
    "# Export to CSV with headers\n",
    "df.to_csv('users.csv', index=False)\n",
    "\n",
    "# Close the database connection\n",
    "conn.close()\n"
   ]
  },
  {
   "cell_type": "code",
   "execution_count": null,
   "id": "05cee5cf-8581-4491-8056-925b3e99d969",
   "metadata": {},
   "outputs": [],
   "source": []
  }
 ],
 "metadata": {
  "kernelspec": {
   "display_name": "Python 3 (ipykernel)",
   "language": "python",
   "name": "python3"
  },
  "language_info": {
   "codemirror_mode": {
    "name": "ipython",
    "version": 3
   },
   "file_extension": ".py",
   "mimetype": "text/x-python",
   "name": "python",
   "nbconvert_exporter": "python",
   "pygments_lexer": "ipython3",
   "version": "3.11.7"
  }
 },
 "nbformat": 4,
 "nbformat_minor": 5
}
